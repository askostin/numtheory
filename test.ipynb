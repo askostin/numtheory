{
 "cells": [
  {
   "cell_type": "code",
   "execution_count": 5,
   "id": "d17ed6ac",
   "metadata": {},
   "outputs": [],
   "source": [
    "import math\n",
    "\n",
    "def gcd(a, b: int) -> int:\n",
    "    if ((a < 0) or (b < 0)):\n",
    "        raise ValueError('Both numbers have to be non-negative integers.')\n",
    "    else:\n",
    "        return a if (b == 0) else gcd(b, a % b)"
   ]
  },
  {
   "cell_type": "code",
   "execution_count": 21,
   "id": "15785da0",
   "metadata": {},
   "outputs": [],
   "source": [
    "def simplify_frac(pair: tuple) -> tuple:\n",
    "    \"\"\"\n",
    "    For pair (a, b) of two integers (b > 0), which represents fraction a/b, return simplified fraction, where nominator and denominator are divided to their GCD.\n",
    "    \"\"\"\n",
    "    n = pair[0]\n",
    "    d = pair[1]\n",
    "    if ((type(n) != int) or (type(d) != int) or (d < 0)):\n",
    "        raise ValueError('Both numbers in pair have to be integers, the second should be positive.')\n",
    "    elif (d == 0):\n",
    "        return (1, 0)\n",
    "    else:\n",
    "        sign = -1 if (n < 0) else 1\n",
    "        gcd_nd = gcd(n, d)\n",
    "        if (gcd_nd != 1):\n",
    "            n /= gcd_nd\n",
    "            d /= gcd_nd\n",
    "        return (int(sign * n), int(d))"
   ]
  },
  {
   "cell_type": "code",
   "execution_count": 7,
   "id": "326e0f69",
   "metadata": {},
   "outputs": [],
   "source": [
    "def float_precision(num: float) -> int:\n",
    "    \"\"\"\n",
    "    Find number of digits on the right sight of the decimal point.\n",
    "    \"\"\"\n",
    "    if (num == math.trunc(num)):\n",
    "        return 0\n",
    "    else :\n",
    "        string_form = str(num)\n",
    "        num_parts = string_form.partition('.')\n",
    "    return len(num_parts[2])"
   ]
  },
  {
   "cell_type": "code",
   "execution_count": 8,
   "id": "0caa7968",
   "metadata": {},
   "outputs": [],
   "source": [
    "def float2frac(num: float) -> tuple:\n",
    "    \"\"\"\n",
    "    Converts decimal number to rational fraction in the form of tuple (n, d), where n and d are mutually prime.\n",
    "    Analog of standard library function float.as_integer_ratio()\n",
    "    \"\"\"\n",
    "    if (num == math.trunc(num)):\n",
    "        return (int(num), 1)\n",
    "    else :\n",
    "        sign = 1 if (num >= 0) else -1\n",
    "        string_form = str(abs(num))\n",
    "        num_parts = string_form.partition('.')\n",
    "        whole = int(num_parts[0])\n",
    "        frac = int(num_parts[2])\n",
    "        frac_digits = len(num_parts[2])\n",
    "        d = 10**frac_digits\n",
    "        n = (d * whole + frac)\n",
    "        return simplify_frac(n, d)"
   ]
  },
  {
   "cell_type": "code",
   "execution_count": 9,
   "id": "a74ba8dd",
   "metadata": {},
   "outputs": [],
   "source": [
    "def SternBrocot_list(level: int, seq_type = 'Stern-Brocot', drop_inf = False):\n",
    "    \"\"\"\n",
    "    SternBrocot_list : N, str, bool -> listof((N, N))\n",
    "    SternBrocot_list(level, drop_inf) creates list of fractions, based on Stern-Brocot tree (in the interval [0, +inf]) or Farray sequence (in the interval [0, 1]):\n",
    "        - level (int) - depth of the tree, number of iterations when we insert new fractions;\n",
    "        - seq_type (str) - 'Stern-Brocot' (default) or 'Farray' sequence (list) to build;\n",
    "        - drop_inf (bool, default = False) - should we remove the tuple (1, 0)  (by definition, fraction 1/0 = +infinity) from Stern-Brocot output sequence.\n",
    "    Representation:\n",
    "        Fraction m/n is represented by tuple (m, n).\n",
    "    Examples:\n",
    "    1. For SternBrocot tree:\n",
    "        - list for level 0 tree: [(0, 1), (1, 0)]\n",
    "        - list for level 1 tree: [(0, 1), (1, 1), (1, 0)]\n",
    "        - list for level 2 tree: [(0, 1), (1, 2), (1, 1), (2, 1), (1, 0)]\n",
    "    2. For Farray sequence:\n",
    "        - list for level 0 tree: [(0, 1), (1, 1)]\n",
    "        - list for level 1 tree: [(0, 1), (1, 2), (1, 1)]\n",
    "        - list for level 2 tree: [(0, 1), (1, 3), (1, 1), (2, 3), (1, 1)]\n",
    "    Algorithm:\n",
    "        Between each two adjacent tuples (m, n) and (m', n') we place the new tuple (m + m', n + n').\n",
    "    \"\"\"\n",
    "\n",
    "    def insert_tuples(lst: list, n: int):\n",
    "        if (n == 0):\n",
    "            return lst\n",
    "        else :\n",
    "            iterations = len(lst) - 1\n",
    "            new_tuples = []\n",
    "            for i in range(iterations):\n",
    "                new_tuples.append( simplify_frac(nom, den) )\n",
    "            new_lst = []\n",
    "            for i in range(iterations):\n",
    "                new_lst = new_lst + [lst[i], new_tuples[i]]\n",
    "            new_lst.append(lst[-1])\n",
    "            return insert_tuples(new_lst, n-1)\n",
    "\n",
    "    if level < 0:\n",
    "        return (\"Level should be >= 0\")\n",
    "    else :\n",
    "        if (seq_type == 'Farray'):\n",
    "            lst = [(0, 1), (1, 1)]\n",
    "            result = insert_tuples(lst, level)\n",
    "        elif (seq_type == 'Stern-Brocot'):\n",
    "            lst = [(0, 1), (1, 0)]\n",
    "            result = insert_tuples(lst, level)\n",
    "            result = result[:-1] if drop_inf else result\n",
    "        return result"
   ]
  },
  {
   "cell_type": "code",
   "execution_count": 11,
   "id": "a1f01b44",
   "metadata": {},
   "outputs": [],
   "source": [
    "def encode_sternbrocot(number, limit_length = True, max_length = 20):\n",
    "    \"\"\"\n",
    "    encode_sternbrocot : number, limit_length, max_length -> stringof(S)\n",
    "    encode_sternbrocot : int/float/tuple, bool, int -> stringof(sym)\n",
    "    where:\n",
    "        - number can be:\n",
    "            * integer number,\n",
    "            * float number,\n",
    "            * tuple (m, n), which represents the rational fraction m/n;\n",
    "        - limit_length - whether we should constraint,\n",
    "        - S = {'L', 'R'}.\n",
    "    Write 'path' to a input fraction through the Stern-Brocot tree, where 'L' is for 'left', 'R' is for 'right'.\n",
    "    \"\"\"\n",
    "    def convert_pair(pair: tuple):\n",
    "        m = pair[0]\n",
    "        n = pair[1]\n",
    "        if (n == 0):\n",
    "            return 'RRR...'\n",
    "        m, n = simplify_frac(pair)\n",
    "        code = ''\n",
    "        while (m != n):\n",
    "            if (m < n):\n",
    "                code += 'L'\n",
    "                n = n - m\n",
    "            else :\n",
    "                code += 'R'\n",
    "                m = m - n\n",
    "        return code\n",
    "\n",
    "    if ((type(number) is tuple) and (len(number) == 2)):\n",
    "        return convert_pair(number)\n",
    "    elif (type(number) is int):\n",
    "        return convert_pair((number, 1))\n",
    "    elif ((type(number) is float) and (number == math.floor(number))) :\n",
    "        return convert_pair((int(number), 1))\n",
    "    elif (type(number) is float):\n",
    "        return convert_pair(float2frac(number))\n",
    "    else:\n",
    "        print(\"Input number should not be negative, and have to be integer, float, or rational fraction represented by tuple (m, n), where m and n are non-negative integers.\")"
   ]
  },
  {
   "cell_type": "code",
   "execution_count": 22,
   "id": "47803d96",
   "metadata": {},
   "outputs": [],
   "source": [
    "def decode_sternbrocot(code: str) -> float:\n",
    "    \"\"\"\n",
    "    Convert code for number in Stern-Brocot tree in the form 'LRRLRLLL...' back to the number itself.\n",
    "    \"\"\"\n",
    "    left_number = (0, 1)\n",
    "    curr_number = (1, 1)\n",
    "    right_number = (1, 0)\n",
    "\n",
    "    for s in code:\n",
    "        if (s.upper() == 'R'):\n",
    "            adj_number = right_number\n",
    "            left_number = curr_number\n",
    "        elif (s.upper() == 'L'):\n",
    "            adj_number = left_number\n",
    "            right_number = curr_number\n",
    "        else:\n",
    "            raise ValueError(\"Wrong code! Only 'L' and 'R' symbols are allowed.\")\n",
    "\n",
    "        curr_number = simplify_frac((curr_number[0] + adj_number[0], curr_number[1] + adj_number[1]))\n",
    "\n",
    "    return curr_number"
   ]
  },
  {
   "cell_type": "code",
   "execution_count": 24,
   "id": "44049417",
   "metadata": {},
   "outputs": [
    {
     "data": {
      "text/plain": [
       "(124288, 45723)"
      ]
     },
     "execution_count": 24,
     "metadata": {},
     "output_type": "execute_result"
    }
   ],
   "source": [
    "ans = decode_sternbrocot('RRLRRLRLLLLRLRRRRRRLRLLLLLLLLRLR')\n",
    "ans"
   ]
  },
  {
   "cell_type": "code",
   "execution_count": 25,
   "id": "d14f4e70",
   "metadata": {},
   "outputs": [
    {
     "data": {
      "text/plain": [
       "2.718281827526628"
      ]
     },
     "execution_count": 25,
     "metadata": {},
     "output_type": "execute_result"
    }
   ],
   "source": [
    "ans[0]/ans[1]"
   ]
  },
  {
   "cell_type": "code",
   "execution_count": 26,
   "id": "99775a8c",
   "metadata": {},
   "outputs": [
    {
     "data": {
      "text/plain": [
       "(5, 7)"
      ]
     },
     "execution_count": 26,
     "metadata": {},
     "output_type": "execute_result"
    }
   ],
   "source": [
    "decode_sternbrocot('LRRL')"
   ]
  },
  {
   "cell_type": "code",
   "execution_count": 28,
   "id": "0987de5b",
   "metadata": {},
   "outputs": [
    {
     "data": {
      "text/plain": [
       "(19, 7)"
      ]
     },
     "execution_count": 28,
     "metadata": {},
     "output_type": "execute_result"
    }
   ],
   "source": [
    "decode_sternbrocot('RRLRRL')"
   ]
  },
  {
   "cell_type": "code",
   "execution_count": 27,
   "id": "7f6d9cd5",
   "metadata": {
    "scrolled": true
   },
   "outputs": [
    {
     "data": {
      "text/plain": [
       "(27, 10)"
      ]
     },
     "execution_count": 27,
     "metadata": {},
     "output_type": "execute_result"
    }
   ],
   "source": [
    "decode_sternbrocot('RRLRRLL')"
   ]
  },
  {
   "cell_type": "code",
   "execution_count": 30,
   "id": "adcfc724",
   "metadata": {},
   "outputs": [
    {
     "ename": "ValueError",
     "evalue": "Both numbers have to be non-negative integers.",
     "output_type": "error",
     "traceback": [
      "\u001b[0;31m---------------------------------------------------------------------------\u001b[0m",
      "\u001b[0;31mValueError\u001b[0m                                Traceback (most recent call last)",
      "Input \u001b[0;32mIn [30]\u001b[0m, in \u001b[0;36m<cell line: 1>\u001b[0;34m()\u001b[0m\n\u001b[0;32m----> 1\u001b[0m \u001b[43mgcd\u001b[49m\u001b[43m(\u001b[49m\u001b[38;5;241;43m-\u001b[39;49m\u001b[38;5;241;43m1\u001b[39;49m\u001b[43m \u001b[49m\u001b[43m,\u001b[49m\u001b[43m \u001b[49m\u001b[38;5;241;43m3\u001b[39;49m\u001b[43m)\u001b[49m\n",
      "Input \u001b[0;32mIn [5]\u001b[0m, in \u001b[0;36mgcd\u001b[0;34m(a, b)\u001b[0m\n\u001b[1;32m      3\u001b[0m \u001b[38;5;28;01mdef\u001b[39;00m \u001b[38;5;21mgcd\u001b[39m(a, b: \u001b[38;5;28mint\u001b[39m) \u001b[38;5;241m-\u001b[39m\u001b[38;5;241m>\u001b[39m \u001b[38;5;28mint\u001b[39m:\n\u001b[1;32m      4\u001b[0m     \u001b[38;5;28;01mif\u001b[39;00m ((a \u001b[38;5;241m<\u001b[39m \u001b[38;5;241m0\u001b[39m) \u001b[38;5;129;01mor\u001b[39;00m (b \u001b[38;5;241m<\u001b[39m \u001b[38;5;241m0\u001b[39m)):\n\u001b[0;32m----> 5\u001b[0m         \u001b[38;5;28;01mraise\u001b[39;00m \u001b[38;5;167;01mValueError\u001b[39;00m(\u001b[38;5;124m'\u001b[39m\u001b[38;5;124mBoth numbers have to be non-negative integers.\u001b[39m\u001b[38;5;124m'\u001b[39m)\n\u001b[1;32m      6\u001b[0m     \u001b[38;5;28;01melse\u001b[39;00m:\n\u001b[1;32m      7\u001b[0m         \u001b[38;5;28;01mreturn\u001b[39;00m a \u001b[38;5;28;01mif\u001b[39;00m (b \u001b[38;5;241m==\u001b[39m \u001b[38;5;241m0\u001b[39m) \u001b[38;5;28;01melse\u001b[39;00m gcd(b, a \u001b[38;5;241m%\u001b[39m b)\n",
      "\u001b[0;31mValueError\u001b[0m: Both numbers have to be non-negative integers."
     ]
    }
   ],
   "source": [
    "gcd(-1 , 3)"
   ]
  }
 ],
 "metadata": {
  "kernelspec": {
   "display_name": "Python 3 (ipykernel)",
   "language": "python",
   "name": "python3"
  },
  "language_info": {
   "codemirror_mode": {
    "name": "ipython",
    "version": 3
   },
   "file_extension": ".py",
   "mimetype": "text/x-python",
   "name": "python",
   "nbconvert_exporter": "python",
   "pygments_lexer": "ipython3",
   "version": "3.9.7"
  }
 },
 "nbformat": 4,
 "nbformat_minor": 5
}
